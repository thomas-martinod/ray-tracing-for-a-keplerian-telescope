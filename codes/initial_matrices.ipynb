{
 "cells": [
  {
   "cell_type": "code",
   "execution_count": 8,
   "metadata": {},
   "outputs": [
    {
     "data": {
      "text/latex": [
       "$\\displaystyle d_{OE}$"
      ],
      "text/plain": [
       "d_{OE}"
      ]
     },
     "execution_count": 8,
     "metadata": {},
     "output_type": "execute_result"
    }
   ],
   "source": [
    "import sympy as smp\n",
    "\n",
    "d_OE, d_EP, f_O, f_E, n, n_L, t_E, t_O, R_E, R_O = smp.symbols('d_{OE}, d_{EP}, f_O, f_E, n, n_L, t_E, t_O, R_E, R_O')\n",
    "d_OE"
   ]
  },
  {
   "cell_type": "code",
   "execution_count": 9,
   "metadata": {},
   "outputs": [
    {
     "name": "stdout",
     "output_type": "stream",
     "text": [
      "\\left[\\begin{matrix}\\frac{R_{O} n_{L} - t_{O} \\left(n - n_{L}\\right)}{R_{O} n_{L}} & \\frac{t_{O}}{n_{L}}\\\\\\frac{R_{O} n_{L} \\left(- n + n_{L}\\right) - \\left(n - n_{L}\\right) \\left(R_{O} n_{L} - t_{O} \\left(n - n_{L}\\right)\\right)}{R_{O}^{2} n_{L}} & \\frac{R_{O} n_{L} - t_{O} \\left(n - n_{L}\\right)}{R_{O} n_{L}}\\end{matrix}\\right]\n"
     ]
    }
   ],
   "source": [
    "# Matrices de lente objetivo\n",
    "\n",
    "M_O_R2 = smp.Matrix([[1, 0], [(n_L - n)/R_O, 1]])\n",
    "M_O_T12 = smp.Matrix([[1, t_O/n_L], [0, 1]])\n",
    "M_O_R1 = smp.Matrix([[1, 0], [-(n - n_L)/R_O, 1]])\n",
    "\n",
    "M_O = (M_O_R2 * M_O_T12 * M_O_R1).applyfunc(smp.simplify)\n",
    "print(smp.latex(M_O))"
   ]
  },
  {
   "cell_type": "code",
   "execution_count": 10,
   "metadata": {},
   "outputs": [
    {
     "name": "stdout",
     "output_type": "stream",
     "text": [
      "\\left[\\begin{matrix}\\frac{R_{E} n_{L} - t_{E} \\left(n - n_{L}\\right)}{R_{E} n_{L}} & \\frac{t_{E}}{n_{L}}\\\\\\frac{R_{E} n_{L} \\left(- n + n_{L}\\right) - \\left(n - n_{L}\\right) \\left(R_{E} n_{L} - t_{E} \\left(n - n_{L}\\right)\\right)}{R_{E}^{2} n_{L}} & \\frac{R_{E} n_{L} - t_{E} \\left(n - n_{L}\\right)}{R_{E} n_{L}}\\end{matrix}\\right]\n"
     ]
    }
   ],
   "source": [
    "# Matrices de lente eyelens\n",
    "\n",
    "M_E_R2 = smp.Matrix([[1, 0], [(n_L - n)/R_E, 1]])\n",
    "M_E_T12 = smp.Matrix([[1, t_E/n_L], [0, 1]])\n",
    "M_E_R1 = smp.Matrix([[1, 0], [-(n - n_L)/R_E, 1]])\n",
    "\n",
    "M_E = (M_E_R2 * M_E_T12 * M_E_R1).applyfunc(smp.simplify)\n",
    "print(smp.latex(M_E))"
   ]
  },
  {
   "cell_type": "code",
   "execution_count": 11,
   "metadata": {},
   "outputs": [
    {
     "data": {
      "text/latex": [
       "$\\displaystyle \\left[\\begin{matrix}1 & f_{E} + f_{O}\\\\0 & 1\\end{matrix}\\right]$"
      ],
      "text/plain": [
       "Matrix([\n",
       "[1, f_E + f_O],\n",
       "[0,         1]])"
      ]
     },
     "execution_count": 11,
     "metadata": {},
     "output_type": "execute_result"
    }
   ],
   "source": [
    "# Matrices de traslación\n",
    "\n",
    "T_OE = smp.Matrix([[1, f_O + f_E], [0, 1]])\n",
    "T_EP = smp.Matrix([[1, d_EP], [0, 1]])\n",
    "\n",
    "T_OE"
   ]
  },
  {
   "cell_type": "code",
   "execution_count": 13,
   "metadata": {},
   "outputs": [
    {
     "name": "stdout",
     "output_type": "stream",
     "text": [
      "\\left[\\begin{matrix}45.4381382322643 & 0.838967284532177\\\\115.011822092981 & 2.14557989968922\\end{matrix}\\right]\n"
     ]
    }
   ],
   "source": [
    "# Matriz de telescopio\n",
    "constantes = {d_OE : 0.770, d_EP : 0.01, f_O : 0.750, f_E : 0.02, n : 1, n_L : 1.5168, t_E : 0.0039, t_O : 0.003, R_E : 0.772, R_O : 0.019}\n",
    "\n",
    "M_telescope = T_EP * M_E * T_OE * M_O\n",
    "print(smp.latex(M_telescope.subs(constantes)))"
   ]
  },
  {
   "cell_type": "code",
   "execution_count": null,
   "metadata": {},
   "outputs": [],
   "source": []
  }
 ],
 "metadata": {
  "kernelspec": {
   "display_name": "Python 3",
   "language": "python",
   "name": "python3"
  },
  "language_info": {
   "codemirror_mode": {
    "name": "ipython",
    "version": 3
   },
   "file_extension": ".py",
   "mimetype": "text/x-python",
   "name": "python",
   "nbconvert_exporter": "python",
   "pygments_lexer": "ipython3",
   "version": "3.11.3"
  }
 },
 "nbformat": 4,
 "nbformat_minor": 2
}
