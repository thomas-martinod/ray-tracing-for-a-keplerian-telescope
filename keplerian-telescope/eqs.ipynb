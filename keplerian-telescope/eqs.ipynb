{
 "cells": [
  {
   "cell_type": "code",
   "execution_count": 111,
   "metadata": {},
   "outputs": [],
   "source": [
    "# data\n",
    "\n",
    "refraction_NPK51 = {\n",
    "    \"R\" : 1.5268,\n",
    "    \"G\" : 1.5319,\n",
    "    \"B\" : 1.5367,\n",
    "    \"Abbe\" : 76.97\n",
    "}\n",
    "refraction_NKZFS4 = {\n",
    "    \"R\" : 1.6098,\n",
    "    \"G\" : 1.6202,\n",
    "    \"B\" : 1.6300,\n",
    "    \"Abbe\" : 44.49\n",
    "}\n",
    "refraction_SF15 = {\n",
    "    \"R\" : 1.6932,\n",
    "    \"G\" : 1.7105,\n",
    "    \"B\" : 1.7280,\n",
    "    \"Abbe\" : 30.07\n",
    "}\n",
    "\n",
    "foci = 200\n",
    "n_air = 1.0003"
   ]
  },
  {
   "cell_type": "code",
   "execution_count": 115,
   "metadata": {},
   "outputs": [
    {
     "data": {
      "text/latex": [
       "$\\displaystyle \\frac{1}{f_{1}} = \\left(- \\frac{1}{R_{2}} + \\frac{1}{R_{1}}\\right) \\left(n_{1} - 1\\right) + \\frac{d_{1} \\left(n_{1} - 1\\right)^{2}}{R_{1} R_{2} n_{1}}$"
      ],
      "text/plain": [
       "Eq(1/f_1, (-1/R_2 + 1/R_1)*(n_1 - 1) + d_1*(n_1 - 1)**2/(R_1*R_2*n_1))"
      ]
     },
     "metadata": {},
     "output_type": "display_data"
    },
    {
     "data": {
      "text/latex": [
       "$\\displaystyle \\frac{1}{f} = \\left(- \\frac{1}{R_{2}} + \\frac{1}{R_{1}}\\right) \\left(n_{1} - 1\\right) + \\left(- \\frac{1}{R_{3}} + \\frac{1}{R_{2}}\\right) \\left(n_{2} - 1\\right) + \\frac{n_{3} - 1}{R_{3}} + \\frac{d_{2} \\left(n_{2} - 1\\right)^{2}}{R_{2} R_{3} n_{2}} + \\frac{d_{1} \\left(n_{1} - 1\\right)^{2}}{R_{1} R_{2} n_{1}}$"
      ],
      "text/plain": [
       "Eq(1/f, (-1/R_2 + 1/R_1)*(n_1 - 1) + (-1/R_3 + 1/R_2)*(n_2 - 1) + (n_3 - 1)/R_3 + d_2*(n_2 - 1)**2/(R_2*R_3*n_2) + d_1*(n_1 - 1)**2/(R_1*R_2*n_1))"
      ]
     },
     "execution_count": 115,
     "metadata": {},
     "output_type": "execute_result"
    }
   ],
   "source": [
    "import sympy as smp\n",
    "\n",
    "f, f1, f2, f3, R1, R2, R3, V1, V2, V3, n1, n2, n3, nL, d1, d2, d3, na = smp.symbols(\n",
    "    r'f, f_1, f_2, f_3, R_1, R_2, R_3, V_1, V_2, V_3, n_1, n_2, n_3, n_L, d_1, d_2, d_3, n_a')\n",
    "\n",
    "\n",
    "balanceEq = smp.Eq(1/f, 1/f1 + 1/f2 + 1/f3)\n",
    "\n",
    "lensmaker_eq_1 = smp.Eq(1 / f1, (n1 - 1) * (1 / R1 - 1 / R2) + ((n1 - 1)**2 * d1) / (n1 * R1 * R2))\n",
    "lensmaker_eq_2 = smp.Eq(1 / f2, (n2 - 1) * (1 / R2 - 1 / R3) + ((n2 - 1)**2 * d2) / (n2 * R2 * R3))\n",
    "lensmaker_eq_3 = smp.Eq(1 / f3, (n3 - 1) * (1 / R3))\n",
    "\n",
    "\n",
    "balanceEq = balanceEq.subs({1/f1 : lensmaker_eq_1.rhs, 1/f2 : lensmaker_eq_2.rhs, 1/f3 : lensmaker_eq_3.rhs})\n",
    "balanceEq"
   ]
  },
  {
   "cell_type": "code",
   "execution_count": 117,
   "metadata": {},
   "outputs": [
    {
     "data": {
      "text/latex": [
       "$\\displaystyle \\frac{1}{200} = \\frac{0.0980000000000001}{R_{3}} + \\frac{0.0932999999999999}{R_{2}} + \\frac{0.243496932515337 d_{2}}{R_{2} R_{3}} + \\frac{0.5367}{R_{1}} + \\frac{0.187445103143099 d_{1}}{R_{1} R_{2}}$"
      ],
      "text/plain": [
       "Eq(1/200, 0.0980000000000001/R_3 + 0.0932999999999999/R_2 + 0.243496932515337*d_2/(R_2*R_3) + 0.5367/R_1 + 0.187445103143099*d_1/(R_1*R_2))"
      ]
     },
     "execution_count": 117,
     "metadata": {},
     "output_type": "execute_result"
    }
   ],
   "source": [
    "balanceEq_R = balanceEq.subs({f : foci, n1 : refraction_NPK51[\"R\"], n2 : refraction_NKZFS4[\"R\"], n3 : refraction_SF15[\"R\"]})\n",
    "balanceEq_G = balanceEq.subs({f : foci, n1 : refraction_NPK51[\"G\"], n2 : refraction_NKZFS4[\"G\"], n3 : refraction_SF15[\"G\"]})\n",
    "balanceEq_B = balanceEq.subs({f : foci, n1 : refraction_NPK51[\"B\"], n2 : refraction_NKZFS4[\"B\"], n3 : refraction_SF15[\"B\"]})\n",
    "balanceEq_B"
   ]
  },
  {
   "cell_type": "code",
   "execution_count": 118,
   "metadata": {},
   "outputs": [
    {
     "data": {
      "text/latex": [
       "$\\displaystyle 0 = \\frac{\\left(- \\frac{1}{R_{3}} + \\frac{1}{R_{2}}\\right) \\left(n_{2} - 1\\right) + \\frac{d_{2} \\left(n_{2} - 1\\right)^{2}}{R_{2} R_{3} n_{2}}}{V_{2}} + \\frac{\\left(- \\frac{1}{R_{2}} + \\frac{1}{R_{1}}\\right) \\left(n_{1} - 1\\right) + \\frac{d_{1} \\left(n_{1} - 1\\right)^{2}}{R_{1} R_{2} n_{1}}}{V_{1}} + \\frac{n_{3} - 1}{R_{3} V_{3}}$"
      ],
      "text/plain": [
       "Eq(0, ((-1/R_3 + 1/R_2)*(n_2 - 1) + d_2*(n_2 - 1)**2/(R_2*R_3*n_2))/V_2 + ((-1/R_2 + 1/R_1)*(n_1 - 1) + d_1*(n_1 - 1)**2/(R_1*R_2*n_1))/V_1 + (n_3 - 1)/(R_3*V_3))"
      ]
     },
     "execution_count": 118,
     "metadata": {},
     "output_type": "execute_result"
    }
   ],
   "source": [
    "balanceEq_Abbe = smp.Eq(0, 1/(V1*f1) + 1/(V2*f2) + 1/(V3*f3))\n",
    "balanceEq_Abbe = balanceEq_Abbe.subs({1/f1 : lensmaker_eq_1.rhs, 1/f2 : lensmaker_eq_2.rhs, 1/f3 : lensmaker_eq_3.rhs})\n",
    "\n",
    "balanceEq_Abbe"
   ]
  },
  {
   "cell_type": "code",
   "execution_count": 119,
   "metadata": {},
   "outputs": [
    {
     "data": {
      "text/latex": [
       "$\\displaystyle 0 = \\frac{0.010049690753044}{R_{3}} + \\frac{0.00718763893876387}{R_{2}} + \\frac{0.00547307108373426 d_{2}}{R_{2} R_{3}} + \\frac{0.00697284656359621}{R_{1}} + \\frac{0.00243530080736779 d_{1}}{R_{1} R_{2}}$"
      ],
      "text/plain": [
       "Eq(0, 0.010049690753044/R_3 + 0.00718763893876387/R_2 + 0.00547307108373426*d_2/(R_2*R_3) + 0.00697284656359621/R_1 + 0.00243530080736779*d_1/(R_1*R_2))"
      ]
     },
     "execution_count": 119,
     "metadata": {},
     "output_type": "execute_result"
    }
   ],
   "source": [
    "balanceEq_Abbe_R = balanceEq_Abbe.subs({na : n_air, f : foci, n1 : refraction_NPK51[\"R\"], n2 : refraction_NKZFS4[\"R\"], n3 : refraction_SF15[\"R\"], V1 : refraction_NPK51[\"Abbe\"], V2 : refraction_NKZFS4[\"Abbe\"], V3 : refraction_SF15[\"Abbe\"]})\n",
    "balanceEq_Abbe_G = balanceEq_Abbe.subs({na : n_air, f : foci, n1 : refraction_NPK51[\"G\"], n2 : refraction_NKZFS4[\"G\"], n3 : refraction_SF15[\"G\"], V1 : refraction_NPK51[\"Abbe\"], V2 : refraction_NKZFS4[\"Abbe\"], V3 : refraction_SF15[\"Abbe\"]})\n",
    "balanceEq_Abbe_B = balanceEq_Abbe.subs({na : n_air, f : foci, n1 : refraction_NPK51[\"B\"], n2 : refraction_NKZFS4[\"B\"], n3 : refraction_SF15[\"B\"], V1 : refraction_NPK51[\"Abbe\"], V2 : refraction_NKZFS4[\"Abbe\"], V3 : refraction_SF15[\"Abbe\"]})\n",
    "balanceEq_Abbe_B"
   ]
  },
  {
   "cell_type": "code",
   "execution_count": 145,
   "metadata": {},
   "outputs": [
    {
     "name": "stdout",
     "output_type": "stream",
     "text": [
      "Numerical solution: [ 187.74016392 -221.53356031  303.86069443    4.07773007   51.70173698]\n"
     ]
    }
   ],
   "source": [
    "from sympy.utilities.lambdify import lambdify\n",
    "\n",
    "# Lambdify las ecuaciones\n",
    "func_balanceEq_R = lambdify((R1, R2, R3, d1, d2), balanceEq_R.lhs - balanceEq_R.rhs, \"numpy\")\n",
    "func_balanceEq_G = lambdify((R1, R2, R3, d1, d2), balanceEq_G.lhs - balanceEq_G.rhs, \"numpy\")\n",
    "func_balanceEq_B = lambdify((R1, R2, R3, d1, d2), balanceEq_B.lhs - balanceEq_B.rhs, \"numpy\")\n",
    "func_balanceEq_Abbe_R = lambdify((R1, R2, R3, d1, d2), balanceEq_Abbe_R.lhs - balanceEq_Abbe_R.rhs, \"numpy\")\n",
    "func_balanceEq_Abbe_G = lambdify((R1, R2, R3, d1, d2), balanceEq_Abbe_G.lhs - balanceEq_Abbe_G.rhs, \"numpy\")\n",
    "\n",
    "# Definir la función del sistema de ecuaciones para fsolve, con penalización por signos incorrectos\n",
    "def equations(vars):\n",
    "    R1, R2, R3, d1, d2 = vars\n",
    "\n",
    "    # Penalización de signo incorrecto (valor grande si el signo no es el correcto)\n",
    "    penalty = 1e6\n",
    "    penalty_R1 = penalty if R1 <= 0 else 0\n",
    "    penalty_R2 = penalty if R2 >= 0 else 0\n",
    "    penalty_R3 = penalty if R3 <= 0 else 0\n",
    "    penalty_d1 = penalty if d1 <= 0 else 0\n",
    "    penalty_d2 = penalty if d2 <= 0 else 0\n",
    "\n",
    "    return [\n",
    "        func_balanceEq_R(R1, R2, R3, d1, d2) + penalty_R1 + penalty_R2 + penalty_R3 + penalty_d1 + penalty_d2,\n",
    "        func_balanceEq_G(R1, R2, R3, d1, d2) + penalty_R1 + penalty_R2 + penalty_R3 + penalty_d1 + penalty_d2,\n",
    "        func_balanceEq_B(R1, R2, R3, d1, d2) + penalty_R1 + penalty_R2 + penalty_R3 + penalty_d1 + penalty_d2,\n",
    "        func_balanceEq_Abbe_R(R1, R2, R3, d1, d2) + penalty_R1 + penalty_R2 + penalty_R3 + penalty_d1 + penalty_d2,\n",
    "        func_balanceEq_Abbe_G(R1, R2, R3, d1, d2) + penalty_R1 + penalty_R2 + penalty_R3 + penalty_d1 + penalty_d2\n",
    "    ]\n",
    "\n",
    "# Usar fsolve con valores iniciales\n",
    "initial_guess = [200, -200, 300, 5, 2]  # Ajusta según expectativas\n",
    "solution = fsolve(equations, initial_guess)\n",
    "\n",
    "print(\"Numerical solution:\", solution)"
   ]
  },
  {
   "cell_type": "code",
   "execution_count": 142,
   "metadata": {},
   "outputs": [
    {
     "data": {
      "text/plain": [
       "-3.2019429293078766e-05"
      ]
     },
     "execution_count": 142,
     "metadata": {},
     "output_type": "execute_result"
    }
   ],
   "source": [
    "func_balanceEq_Abbe_R(187.74016392, -221.53356031,  303.86069443,    4.07773007,   51.70173698)"
   ]
  }
 ],
 "metadata": {
  "kernelspec": {
   "display_name": "Python 3",
   "language": "python",
   "name": "python3"
  },
  "language_info": {
   "codemirror_mode": {
    "name": "ipython",
    "version": 3
   },
   "file_extension": ".py",
   "mimetype": "text/x-python",
   "name": "python",
   "nbconvert_exporter": "python",
   "pygments_lexer": "ipython3",
   "version": "3.11.3"
  }
 },
 "nbformat": 4,
 "nbformat_minor": 2
}
