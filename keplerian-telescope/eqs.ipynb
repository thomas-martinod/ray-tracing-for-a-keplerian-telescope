{
 "cells": [
  {
   "cell_type": "code",
   "execution_count": 13,
   "metadata": {},
   "outputs": [],
   "source": [
    "# data\n",
    "\n",
    "refraction_NPK51 = {\n",
    "    \"R\" : 1.5268,\n",
    "    \"G\" : 1.5319,\n",
    "    \"B\" : 1.5367,\n",
    "    \"Abbe\" : 76.97\n",
    "}\n",
    "refraction_NKZFS4 = {\n",
    "    \"R\" : 1.6098,\n",
    "    \"G\" : 1.6202,\n",
    "    \"B\" : 1.6300,\n",
    "    \"Abbe\" : 44.49\n",
    "}\n",
    "refraction_SF15 = {\n",
    "    \"R\" : 1.6932,\n",
    "    \"G\" : 1.7105,\n",
    "    \"B\" : 1.7280,\n",
    "    \"Abbe\" : 30.07\n",
    "}\n",
    "\n",
    "foco = 200"
   ]
  },
  {
   "cell_type": "code",
   "execution_count": 58,
   "metadata": {},
   "outputs": [
    {
     "data": {
      "text/latex": [
       "$\\displaystyle \\frac{1}{f} = \\left(- \\frac{1}{R_{2}} + \\frac{1}{R_{1}}\\right) \\left(n - 1\\right) + \\frac{d \\left(n - 1\\right)^{2}}{R_{1} R_{2} n}$"
      ],
      "text/plain": [
       "Eq(1/f, (-1/R_2 + 1/R_1)*(n - 1) + d*(n - 1)**2/(R_1*R_2*n))"
      ]
     },
     "execution_count": 58,
     "metadata": {},
     "output_type": "execute_result"
    }
   ],
   "source": [
    "import sympy as smp\n",
    "\n",
    "# f, f1, f2, f3, R1, R2, R3, V1, V2, V3, n1R, n2R, n3R, n1G, n2G, n3G, nL, d = smp.symbols(\n",
    "    # r'f, f_1, f_2, f_3, R_1, R_2, R_3, V_1, V_2, V_3, n_{1R}, n_{2R}, n_{3R}, n_{1G}, n_{2G}, n_{3G}, n_L, d')\n",
    "\n",
    "f, nL, R1, R2, d = smp.symbols('f n R_1 R_2 d')\n",
    "\n",
    "lensmaker_eq = smp.Eq(1 / f, (nL - 1) * (1 / R1 - 1 / R2) + ((nL - 1)**2 * d) / (nL * R1 * R2) + )\n",
    "lensmaker_eq\n"
   ]
  },
  {
   "cell_type": "code",
   "execution_count": 57,
   "metadata": {},
   "outputs": [],
   "source": []
  }
 ],
 "metadata": {
  "kernelspec": {
   "display_name": "Python 3",
   "language": "python",
   "name": "python3"
  },
  "language_info": {
   "codemirror_mode": {
    "name": "ipython",
    "version": 3
   },
   "file_extension": ".py",
   "mimetype": "text/x-python",
   "name": "python",
   "nbconvert_exporter": "python",
   "pygments_lexer": "ipython3",
   "version": "3.11.3"
  }
 },
 "nbformat": 4,
 "nbformat_minor": 2
}
